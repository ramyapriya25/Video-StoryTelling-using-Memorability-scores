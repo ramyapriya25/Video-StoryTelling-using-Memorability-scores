{
  "cells": [
    {
      "cell_type": "code",
      "execution_count": null,
      "metadata": {
        "colab": {
          "base_uri": "https://localhost:8080/"
        },
        "id": "mqbiYvmGxlnf",
        "outputId": "0e76e53d-0490-41ff-fe02-fedcffe0becd"
      },
      "outputs": [
        {
          "name": "stdout",
          "output_type": "stream",
          "text": [
            "Mounted at /content/drive/\n"
          ]
        }
      ],
      "source": [
        "from google.colab import drive\n",
        "import os\n",
        "drive.mount('/content/drive/')"
      ]
    },
    {
      "cell_type": "code",
      "execution_count": null,
      "metadata": {
        "colab": {
          "background_save": true,
          "base_uri": "https://localhost:8080/"
        },
        "id": "CXwQiHKKyn_u",
        "outputId": "a3aec2cd-627c-4fbb-ffb4-e672ade68b2a"
      },
      "outputs": [
        {
          "name": "stdout",
          "output_type": "stream",
          "text": [
            "Looking in indexes: https://pypi.org/simple, https://us-python.pkg.dev/colab-wheels/public/simple/\n",
            "Requirement already satisfied: imageio_ffmpeg in /usr/local/lib/python3.9/dist-packages (0.4.8)\n",
            "Moviepy - Building video /content/drive/MyDrive/Videos/D9EjcfgEaNo_part_0.mp4.\n",
            "MoviePy - Writing audio in D9EjcfgEaNo_part_0TEMP_MPY_wvf_snd.mp3\n"
          ]
        },
        {
          "name": "stderr",
          "output_type": "stream",
          "text": [
            ""
          ]
        },
        {
          "name": "stdout",
          "output_type": "stream",
          "text": [
            "MoviePy - Done.\n",
            "Moviepy - Writing video /content/drive/MyDrive/Videos/D9EjcfgEaNo_part_0.mp4\n",
            "\n"
          ]
        },
        {
          "name": "stderr",
          "output_type": "stream",
          "text": [
            ""
          ]
        },
        {
          "name": "stdout",
          "output_type": "stream",
          "text": [
            "Moviepy - Done !\n",
            "Moviepy - video ready /content/drive/MyDrive/Videos/D9EjcfgEaNo_part_0.mp4\n",
            "Moviepy - Building video /content/drive/MyDrive/Videos/D9EjcfgEaNo_part_1.mp4.\n",
            "MoviePy - Writing audio in D9EjcfgEaNo_part_1TEMP_MPY_wvf_snd.mp3\n"
          ]
        },
        {
          "name": "stderr",
          "output_type": "stream",
          "text": [
            ""
          ]
        },
        {
          "name": "stdout",
          "output_type": "stream",
          "text": [
            "MoviePy - Done.\n",
            "Moviepy - Writing video /content/drive/MyDrive/Videos/D9EjcfgEaNo_part_1.mp4\n",
            "\n"
          ]
        },
        {
          "name": "stderr",
          "output_type": "stream",
          "text": [
            ""
          ]
        },
        {
          "name": "stdout",
          "output_type": "stream",
          "text": [
            "Moviepy - Done !\n",
            "Moviepy - video ready /content/drive/MyDrive/Videos/D9EjcfgEaNo_part_1.mp4\n",
            "Moviepy - Building video /content/drive/MyDrive/Videos/D9EjcfgEaNo_part_2.mp4.\n",
            "MoviePy - Writing audio in D9EjcfgEaNo_part_2TEMP_MPY_wvf_snd.mp3\n"
          ]
        },
        {
          "name": "stderr",
          "output_type": "stream",
          "text": [
            ""
          ]
        },
        {
          "name": "stdout",
          "output_type": "stream",
          "text": [
            "MoviePy - Done.\n",
            "Moviepy - Writing video /content/drive/MyDrive/Videos/D9EjcfgEaNo_part_2.mp4\n",
            "\n"
          ]
        },
        {
          "name": "stderr",
          "output_type": "stream",
          "text": [
            ""
          ]
        },
        {
          "name": "stdout",
          "output_type": "stream",
          "text": [
            "Moviepy - Done !\n",
            "Moviepy - video ready /content/drive/MyDrive/Videos/D9EjcfgEaNo_part_2.mp4\n",
            "Moviepy - Building video /content/drive/MyDrive/Videos/D9EjcfgEaNo_part_3.mp4.\n",
            "MoviePy - Writing audio in D9EjcfgEaNo_part_3TEMP_MPY_wvf_snd.mp3\n"
          ]
        },
        {
          "name": "stderr",
          "output_type": "stream",
          "text": [
            ""
          ]
        },
        {
          "name": "stdout",
          "output_type": "stream",
          "text": [
            "MoviePy - Done.\n",
            "Moviepy - Writing video /content/drive/MyDrive/Videos/D9EjcfgEaNo_part_3.mp4\n",
            "\n"
          ]
        },
        {
          "name": "stderr",
          "output_type": "stream",
          "text": [
            ""
          ]
        },
        {
          "name": "stdout",
          "output_type": "stream",
          "text": [
            "Moviepy - Done !\n",
            "Moviepy - video ready /content/drive/MyDrive/Videos/D9EjcfgEaNo_part_3.mp4\n",
            "Moviepy - Building video /content/drive/MyDrive/Videos/D9EjcfgEaNo_part_4.mp4.\n",
            "MoviePy - Writing audio in D9EjcfgEaNo_part_4TEMP_MPY_wvf_snd.mp3\n"
          ]
        },
        {
          "name": "stderr",
          "output_type": "stream",
          "text": [
            ""
          ]
        },
        {
          "name": "stdout",
          "output_type": "stream",
          "text": [
            "MoviePy - Done.\n",
            "Moviepy - Writing video /content/drive/MyDrive/Videos/D9EjcfgEaNo_part_4.mp4\n",
            "\n"
          ]
        },
        {
          "name": "stderr",
          "output_type": "stream",
          "text": [
            ""
          ]
        },
        {
          "name": "stdout",
          "output_type": "stream",
          "text": [
            "Moviepy - Done !\n",
            "Moviepy - video ready /content/drive/MyDrive/Videos/D9EjcfgEaNo_part_4.mp4\n",
            "Moviepy - Building video /content/drive/MyDrive/Videos/D9EjcfgEaNo_part_5.mp4.\n",
            "MoviePy - Writing audio in D9EjcfgEaNo_part_5TEMP_MPY_wvf_snd.mp3\n"
          ]
        },
        {
          "name": "stderr",
          "output_type": "stream",
          "text": [
            ""
          ]
        },
        {
          "name": "stdout",
          "output_type": "stream",
          "text": [
            "MoviePy - Done.\n",
            "Moviepy - Writing video /content/drive/MyDrive/Videos/D9EjcfgEaNo_part_5.mp4\n",
            "\n"
          ]
        },
        {
          "name": "stderr",
          "output_type": "stream",
          "text": [
            ""
          ]
        },
        {
          "name": "stdout",
          "output_type": "stream",
          "text": [
            "Moviepy - Done !\n",
            "Moviepy - video ready /content/drive/MyDrive/Videos/D9EjcfgEaNo_part_5.mp4\n",
            "Moviepy - Building video /content/drive/MyDrive/Videos/D9EjcfgEaNo_part_6.mp4.\n",
            "MoviePy - Writing audio in D9EjcfgEaNo_part_6TEMP_MPY_wvf_snd.mp3\n"
          ]
        },
        {
          "name": "stderr",
          "output_type": "stream",
          "text": [
            ""
          ]
        },
        {
          "name": "stdout",
          "output_type": "stream",
          "text": [
            "MoviePy - Done.\n",
            "Moviepy - Writing video /content/drive/MyDrive/Videos/D9EjcfgEaNo_part_6.mp4\n",
            "\n"
          ]
        },
        {
          "name": "stderr",
          "output_type": "stream",
          "text": [
            ""
          ]
        },
        {
          "name": "stdout",
          "output_type": "stream",
          "text": [
            "Moviepy - Done !\n",
            "Moviepy - video ready /content/drive/MyDrive/Videos/D9EjcfgEaNo_part_6.mp4\n",
            "Moviepy - Building video /content/drive/MyDrive/Videos/D9EjcfgEaNo_part_7.mp4.\n",
            "MoviePy - Writing audio in D9EjcfgEaNo_part_7TEMP_MPY_wvf_snd.mp3\n"
          ]
        },
        {
          "name": "stderr",
          "output_type": "stream",
          "text": [
            ""
          ]
        },
        {
          "name": "stdout",
          "output_type": "stream",
          "text": [
            "MoviePy - Done.\n",
            "Moviepy - Writing video /content/drive/MyDrive/Videos/D9EjcfgEaNo_part_7.mp4\n",
            "\n"
          ]
        },
        {
          "name": "stderr",
          "output_type": "stream",
          "text": [
            ""
          ]
        },
        {
          "name": "stdout",
          "output_type": "stream",
          "text": [
            "Moviepy - Done !\n",
            "Moviepy - video ready /content/drive/MyDrive/Videos/D9EjcfgEaNo_part_7.mp4\n",
            "Moviepy - Building video /content/drive/MyDrive/Videos/D9EjcfgEaNo_part_8.mp4.\n",
            "MoviePy - Writing audio in D9EjcfgEaNo_part_8TEMP_MPY_wvf_snd.mp3\n"
          ]
        },
        {
          "name": "stderr",
          "output_type": "stream",
          "text": [
            ""
          ]
        },
        {
          "name": "stdout",
          "output_type": "stream",
          "text": [
            "MoviePy - Done.\n",
            "Moviepy - Writing video /content/drive/MyDrive/Videos/D9EjcfgEaNo_part_8.mp4\n",
            "\n"
          ]
        },
        {
          "name": "stderr",
          "output_type": "stream",
          "text": [
            ""
          ]
        },
        {
          "name": "stdout",
          "output_type": "stream",
          "text": [
            "Moviepy - Done !\n",
            "Moviepy - video ready /content/drive/MyDrive/Videos/D9EjcfgEaNo_part_8.mp4\n",
            "Moviepy - Building video /content/drive/MyDrive/Videos/D9EjcfgEaNo_part_9.mp4.\n",
            "MoviePy - Writing audio in D9EjcfgEaNo_part_9TEMP_MPY_wvf_snd.mp3\n"
          ]
        },
        {
          "name": "stderr",
          "output_type": "stream",
          "text": [
            ""
          ]
        },
        {
          "name": "stdout",
          "output_type": "stream",
          "text": [
            "MoviePy - Done.\n",
            "Moviepy - Writing video /content/drive/MyDrive/Videos/D9EjcfgEaNo_part_9.mp4\n",
            "\n"
          ]
        },
        {
          "name": "stderr",
          "output_type": "stream",
          "text": [
            ""
          ]
        },
        {
          "name": "stdout",
          "output_type": "stream",
          "text": [
            "Moviepy - Done !\n",
            "Moviepy - video ready /content/drive/MyDrive/Videos/D9EjcfgEaNo_part_9.mp4\n",
            "Moviepy - Building video /content/drive/MyDrive/Videos/D9EjcfgEaNo_part_10.mp4.\n",
            "MoviePy - Writing audio in D9EjcfgEaNo_part_10TEMP_MPY_wvf_snd.mp3\n"
          ]
        },
        {
          "name": "stderr",
          "output_type": "stream",
          "text": [
            ""
          ]
        },
        {
          "name": "stdout",
          "output_type": "stream",
          "text": [
            "MoviePy - Done.\n",
            "Moviepy - Writing video /content/drive/MyDrive/Videos/D9EjcfgEaNo_part_10.mp4\n",
            "\n"
          ]
        },
        {
          "name": "stderr",
          "output_type": "stream",
          "text": [
            ""
          ]
        },
        {
          "name": "stdout",
          "output_type": "stream",
          "text": [
            "Moviepy - Done !\n",
            "Moviepy - video ready /content/drive/MyDrive/Videos/D9EjcfgEaNo_part_10.mp4\n",
            "Moviepy - Building video /content/drive/MyDrive/Videos/D9EjcfgEaNo_part_11.mp4.\n",
            "MoviePy - Writing audio in D9EjcfgEaNo_part_11TEMP_MPY_wvf_snd.mp3\n"
          ]
        },
        {
          "name": "stderr",
          "output_type": "stream",
          "text": [
            ""
          ]
        },
        {
          "name": "stdout",
          "output_type": "stream",
          "text": [
            "MoviePy - Done.\n",
            "Moviepy - Writing video /content/drive/MyDrive/Videos/D9EjcfgEaNo_part_11.mp4\n",
            "\n"
          ]
        },
        {
          "name": "stderr",
          "output_type": "stream",
          "text": [
            "t: 100%|█████████▉| 1882/1885 [02:49<00:00, 31.63it/s, now=None]WARNING:py.warnings:/usr/local/lib/python3.9/dist-packages/moviepy/video/io/ffmpeg_reader.py:123: UserWarning: Warning: in file /content/drive/MyDrive/birthday/D9EjcfgEaNo.mp4, 2764800 bytes wanted but 0 bytes read,at frame 22608/22609, at time 754.35/754.37 sec. Using the last valid frame instead.\n",
            "  warnings.warn(\"Warning: in file %s, \"%(self.filename)+\n",
            "\n"
          ]
        },
        {
          "name": "stdout",
          "output_type": "stream",
          "text": [
            "Moviepy - Done !\n",
            "Moviepy - video ready /content/drive/MyDrive/Videos/D9EjcfgEaNo_part_11.mp4\n"
          ]
        }
      ],
      "source": [
        "!pip install imageio_ffmpeg\n",
        "from moviepy.video.io.VideoFileClip import VideoFileClip\n",
        "\n",
        "# Load the video\n",
        "video = VideoFileClip(\"/content/drive/MyDrive/birthday/D9EjcfgEaNo.mp4\")\n",
        "duration = video.duration\n",
        "\n",
        "# Calculate the duration of each part\n",
        "part_duration = duration / 12\n",
        "\n",
        "# Split the video into parts\n",
        "for i in range(12):\n",
        "    # Calculate the start and end time of the part\n",
        "    start_time = i * part_duration\n",
        "    end_time = (i+1) * part_duration\n",
        "\n",
        "    # Extract the part of the video\n",
        "    part = video.subclip(start_time, end_time)\n",
        "\n",
        "    # Save the part to a file\n",
        "    part.write_videofile(f\"/content/drive/MyDrive/Videos/D9EjcfgEaNo_part_{i}.mp4\")"
      ]
    },
    {
      "cell_type": "code",
      "execution_count": null,
      "metadata": {
        "id": "7a0NoSAvNosM"
      },
      "outputs": [],
      "source": []
    }
  ],
  "metadata": {
    "colab": {
      "provenance": []
    },
    "kernelspec": {
      "display_name": "Python 3",
      "name": "python3"
    },
    "language_info": {
      "name": "python"
    }
  },
  "nbformat": 4,
  "nbformat_minor": 0
}