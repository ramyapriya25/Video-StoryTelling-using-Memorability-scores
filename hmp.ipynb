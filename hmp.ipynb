{
  "nbformat": 4,
  "nbformat_minor": 0,
  "metadata": {
    "colab": {
      "provenance": []
    },
    "kernelspec": {
      "name": "python3",
      "display_name": "Python 3"
    },
    "language_info": {
      "name": "python"
    }
  },
  "cells": [
    {
      "cell_type": "code",
      "execution_count": null,
      "metadata": {
        "colab": {
          "base_uri": "https://localhost:8080/"
        },
        "id": "sa4FF3-1Saf_",
        "outputId": "877dad7a-c70b-489e-99bf-e7edb2387432"
      },
      "outputs": [
        {
          "output_type": "stream",
          "name": "stdout",
          "text": [
            "Looking in indexes: https://pypi.org/simple, https://us-python.pkg.dev/colab-wheels/public/simple/\n",
            "Requirement already satisfied: opencv-python-headless in /usr/local/lib/python3.8/dist-packages (4.7.0.68)\n",
            "Requirement already satisfied: numpy>=1.17.3 in /usr/local/lib/python3.8/dist-packages (from opencv-python-headless) (1.21.6)\n",
            "Looking in indexes: https://pypi.org/simple, https://us-python.pkg.dev/colab-wheels/public/simple/\n",
            "Requirement already satisfied: matplotlib in /usr/local/lib/python3.8/dist-packages (3.2.2)\n",
            "Requirement already satisfied: python-dateutil>=2.1 in /usr/local/lib/python3.8/dist-packages (from matplotlib) (2.8.2)\n",
            "Requirement already satisfied: numpy>=1.11 in /usr/local/lib/python3.8/dist-packages (from matplotlib) (1.21.6)\n",
            "Requirement already satisfied: kiwisolver>=1.0.1 in /usr/local/lib/python3.8/dist-packages (from matplotlib) (1.4.4)\n",
            "Requirement already satisfied: cycler>=0.10 in /usr/local/lib/python3.8/dist-packages (from matplotlib) (0.11.0)\n",
            "Requirement already satisfied: pyparsing!=2.0.4,!=2.1.2,!=2.1.6,>=2.0.1 in /usr/local/lib/python3.8/dist-packages (from matplotlib) (3.0.9)\n",
            "Requirement already satisfied: six>=1.5 in /usr/local/lib/python3.8/dist-packages (from python-dateutil>=2.1->matplotlib) (1.15.0)\n"
          ]
        }
      ],
      "source": [
        "!pip install opencv-python-headless\n",
        "!pip install matplotlib"
      ]
    },
    {
      "cell_type": "code",
      "source": [
        "from google.colab import drive \n",
        "drive.mount('/content/gdrive')"
      ],
      "metadata": {
        "colab": {
          "base_uri": "https://localhost:8080/"
        },
        "id": "Zoz_wcd7TK1u",
        "outputId": "e9494d4d-8542-4ecd-d28f-599c3b6edd5d"
      },
      "execution_count": null,
      "outputs": [
        {
          "output_type": "stream",
          "name": "stdout",
          "text": [
            "Mounted at /content/gdrive\n"
          ]
        }
      ]
    },
    {
      "cell_type": "code",
      "source": [
        "def extract_hmp(video):\n",
        "  print(video)\n",
        "  # Define the parameters for the HMP feature extraction\n",
        "  win_size = (32, 32)\n",
        "  block_size = (16, 16)\n",
        "  block_stride = (8, 8)\n",
        "  cell_size = (8, 8)\n",
        "  nbins = 15  # use 15 bins per channel for a total of 15*15*15=6075 bins\n",
        "\n",
        "  # Load the video and initialize the HOG descriptor\n",
        "  video_path = '/content/gdrive/MyDrive/Videos/'+video\n",
        "  video_cap = cv2.VideoCapture(video_path)\n",
        "  hog = cv2.HOGDescriptor(win_size, block_size, block_stride, cell_size, nbins)\n",
        "\n",
        "  # Define the batch size and initialize the feature array\n",
        "  batch_size = 50  # process 50 frames at a time\n",
        "  features = []\n",
        "\n",
        "  # Process the video in batches\n",
        "  while video_cap.isOpened():\n",
        "      # Read the next batch of frames from the video\n",
        "      frames = []\n",
        "      for i in range(batch_size):\n",
        "          ret, frame = video_cap.read()\n",
        "          if not ret:\n",
        "              break\n",
        "          frame = cv2.resize(frame, win_size)\n",
        "          frames.append(frame)\n",
        "      if not frames:\n",
        "          break\n",
        "      \n",
        "      # Compute HMP features for the batch of frames\n",
        "      batch_features = []\n",
        "      for frame in frames:\n",
        "          gray = cv2.cvtColor(frame, cv2.COLOR_BGR2GRAY)\n",
        "          descriptors = hog.compute(gray)\n",
        "          batch_features.append(descriptors)\n",
        "      \n",
        "      # Append the batch features to the feature array\n",
        "      batch_features = np.stack(batch_features, axis=0)\n",
        "      features.append(batch_features)\n",
        "\n",
        "  # Concatenate the feature batches into a single array\n",
        "  features = np.concatenate(features, axis=0)\n",
        "\n",
        "  # Save the features to disk\n",
        "  # output_file = '/path/to/features.npy'\n",
        "  # np.save(output_file, features)\n",
        "  print(features)\n",
        "  print(len(features[0]))\n",
        "\n",
        "  with open(r'/content/gdrive/MyDrive/HMP/'+video, 'w') as fp:\n",
        "      for item in features:\n",
        "          item = abs(item)\n",
        "          # write each item on a new line\n",
        "          fp.write(\"%s \" % item)\n",
        "      print('Done')\n",
        "for i in range(12):\n",
        "  \n",
        "  extract_hmp(f'nS-NuGbrDK4_part_{i}.mp4')"
      ],
      "metadata": {
        "colab": {
          "base_uri": "https://localhost:8080/"
        },
        "id": "fKdZLnt8VSgT",
        "outputId": "de678123-d175-4c61-a47d-5d1a6237e5ab"
      },
      "execution_count": null,
      "outputs": [
        {
          "output_type": "stream",
          "name": "stdout",
          "text": [
            "nS-NuGbrDK4_part_0.mp4\n",
            "[[0.         0.         0.         ... 0.         0.         0.        ]\n",
            " [0.         0.         0.         ... 0.         0.         0.        ]\n",
            " [0.         0.         0.         ... 0.         0.         0.        ]\n",
            " ...\n",
            " [0.09859905 0.01396118 0.00633241 ... 0.06437678 0.13860191 0.10654815]\n",
            " [0.08007667 0.04733083 0.0126765  ... 0.05148138 0.11697192 0.15970853]\n",
            " [0.072487   0.03084865 0.0126341  ... 0.11224397 0.15759501 0.11686429]]\n",
            "540\n",
            "Done\n",
            "nS-NuGbrDK4_part_1.mp4\n",
            "[[0.07710699 0.03642007 0.00641803 ... 0.08735766 0.15155114 0.12836681]\n",
            " [0.09750341 0.02383367 0.00770683 ... 0.08493038 0.11853161 0.17620018]\n",
            " [0.10114413 0.03804013 0.00799933 ... 0.09940027 0.07311238 0.13420966]\n",
            " ...\n",
            " [0.32862988 0.0364345  0.0114535  ... 0.05409679 0.06162229 0.14303261]\n",
            " [0.32454467 0.05883115 0.01642489 ... 0.03048511 0.03818497 0.20186003]\n",
            " [0.32312298 0.04358948 0.01147246 ... 0.02432581 0.02654992 0.24368857]]\n",
            "540\n",
            "Done\n",
            "nS-NuGbrDK4_part_2.mp4\n",
            "[[0.2988868  0.02151092 0.00984068 ... 0.06709284 0.06393418 0.15050188]\n",
            " [0.21859717 0.06468739 0.04222132 ... 0.07144178 0.06882799 0.230004  ]\n",
            " [0.23319313 0.07174642 0.05014883 ... 0.02699951 0.06098973 0.24202882]\n",
            " ...\n",
            " [0.17671323 0.06777139 0.04639597 ... 0.07929844 0.08860648 0.13521394]\n",
            " [0.15196384 0.07347465 0.05937903 ... 0.02845065 0.1241267  0.16381486]\n",
            " [0.1528955  0.07464174 0.05597185 ... 0.02945871 0.07155779 0.17811865]]\n",
            "540\n",
            "Done\n",
            "nS-NuGbrDK4_part_3.mp4\n",
            "[[0.14633556 0.07672819 0.04524097 ... 0.04527319 0.0353994  0.08864453]\n",
            " [0.16095765 0.12527199 0.08407017 ... 0.07809929 0.06956184 0.09677221]\n",
            " [0.1680835  0.07787425 0.06220657 ... 0.09939525 0.16059493 0.12987307]\n",
            " ...\n",
            " [0.2305702  0.16244775 0.17102137 ... 0.05184948 0.15710647 0.11346821]\n",
            " [0.27042153 0.07429507 0.04176648 ... 0.07787257 0.11767232 0.1416731 ]\n",
            " [0.26240098 0.14418809 0.0200264  ... 0.04905131 0.12332688 0.12535578]]\n",
            "540\n",
            "Done\n",
            "nS-NuGbrDK4_part_4.mp4\n",
            "[[0.2536272  0.06432643 0.0514054  ... 0.07443422 0.17480855 0.18359752]\n",
            " [0.24408153 0.13479224 0.1258795  ... 0.0546806  0.17707811 0.15439105]\n",
            " [0.2431711  0.11890448 0.1662022  ... 0.02104822 0.12361954 0.1279134 ]\n",
            " ...\n",
            " [0.24412718 0.09035137 0.05702407 ... 0.0752591  0.03575419 0.05195886]\n",
            " [0.22244273 0.08266578 0.10367674 ... 0.10437467 0.03622352 0.05288125]\n",
            " [0.22346078 0.17915905 0.11443166 ... 0.06998639 0.03187979 0.05412321]]\n",
            "540\n",
            "Done\n",
            "nS-NuGbrDK4_part_5.mp4\n",
            "[[0.22771795 0.12164435 0.04706091 ... 0.07745348 0.06999943 0.05462703]\n",
            " [0.23298542 0.0912812  0.1047319  ... 0.04541729 0.09613399 0.05172579]\n",
            " [0.22672604 0.1101008  0.07827268 ... 0.04622872 0.03571078 0.09462801]\n",
            " ...\n",
            " [0.0941814  0.04784445 0.04731135 ... 0.12398609 0.10644569 0.23938672]\n",
            " [0.12176321 0.01233277 0.04844751 ... 0.10629094 0.14603464 0.21407162]\n",
            " [0.09982277 0.06685472 0.08793283 ... 0.07085969 0.04061157 0.14387801]]\n",
            "540\n",
            "Done\n",
            "nS-NuGbrDK4_part_6.mp4\n",
            "[[0.18731046 0.10427009 0.11845876 ... 0.06826913 0.02647643 0.08618992]\n",
            " [0.18692201 0.05305063 0.10677702 ... 0.07502644 0.04011784 0.08261497]\n",
            " [0.1701247  0.09759142 0.17010297 ... 0.14257248 0.12333466 0.11846859]\n",
            " ...\n",
            " [0.13068414 0.11940002 0.06776927 ... 0.13750444 0.20790179 0.14520107]\n",
            " [0.16598246 0.14990033 0.07487354 ... 0.06698861 0.11420652 0.14237213]\n",
            " [0.14039181 0.08582728 0.04069343 ... 0.16030826 0.08574938 0.10086045]]\n",
            "540\n",
            "Done\n",
            "nS-NuGbrDK4_part_7.mp4\n",
            "[[0.21395576 0.06416244 0.03950049 ... 0.08704158 0.05519535 0.08892493]\n",
            " [0.11754306 0.12256578 0.07604761 ... 0.04795173 0.08061786 0.11597653]\n",
            " [0.17575347 0.05900368 0.06902913 ... 0.07770924 0.05327431 0.1601617 ]\n",
            " ...\n",
            " [0.22335695 0.10064493 0.22335695 ... 0.19540708 0.20758235 0.10806285]\n",
            " [0.22327948 0.11643786 0.15480146 ... 0.20596698 0.20164548 0.08699388]\n",
            " [0.22639762 0.11917242 0.22639762 ... 0.12426744 0.14543024 0.14004302]]\n",
            "540\n",
            "Done\n",
            "nS-NuGbrDK4_part_8.mp4\n",
            "[[0.2240988  0.06986742 0.2240988  ... 0.07637247 0.09666769 0.20785485]\n",
            " [0.22164157 0.06529094 0.22164157 ... 0.11480997 0.05112807 0.07660904]\n",
            " [0.22246526 0.22246526 0.1597653  ... 0.13360067 0.11842829 0.153724  ]\n",
            " ...\n",
            " [0.07904135 0.06228084 0.06056754 ... 0.05418838 0.09763313 0.14176372]\n",
            " [0.1014462  0.07396676 0.05198246 ... 0.05506181 0.09360292 0.11583288]\n",
            " [0.09139911 0.09399857 0.06135243 ... 0.05314274 0.08877221 0.12196964]]\n",
            "540\n",
            "Done\n",
            "nS-NuGbrDK4_part_9.mp4\n",
            "[[0.09764488 0.11171296 0.04788063 ... 0.02261755 0.0815746  0.11151833]\n",
            " [0.08858878 0.10936439 0.05004783 ... 0.04178423 0.1172548  0.09147255]\n",
            " [0.07107848 0.08068081 0.11261503 ... 0.06869383 0.11843242 0.10407071]\n",
            " ...\n",
            " [0.2739664  0.03496403 0.01546044 ... 0.33763763 0.15388256 0.09464416]\n",
            " [0.31674132 0.02345823 0.03285379 ... 0.21349202 0.08396618 0.1486404 ]\n",
            " [0.25743958 0.011274   0.00305771 ... 0.0660477  0.08439852 0.14976768]]\n",
            "540\n",
            "Done\n",
            "nS-NuGbrDK4_part_10.mp4\n",
            "[[0.18376471 0.03534981 0.00468044 ... 0.02201856 0.07162593 0.1110549 ]\n",
            " [0.05599831 0.03671685 0.04777943 ... 0.032383   0.00328165 0.02253386]\n",
            " [0.09699026 0.03500322 0.02624935 ... 0.00044003 0.01159671 0.03384034]\n",
            " ...\n",
            " [0.11818348 0.05158705 0.01414193 ... 0.21259071 0.21341386 0.20117252]\n",
            " [0.10741831 0.03679361 0.0390195  ... 0.22876428 0.21741445 0.18403329]\n",
            " [0.15774202 0.02629254 0.05137485 ... 0.20165724 0.20293665 0.19128688]]\n",
            "540\n",
            "Done\n",
            "nS-NuGbrDK4_part_11.mp4\n",
            "[[0.10061421 0.0108119  0.07626494 ... 0.2234334  0.2234334  0.15854278]\n",
            " [0.08353882 0.01041703 0.0754512  ... 0.20871319 0.19743706 0.12136891]\n",
            " [0.08198616 0.00791218 0.04116244 ... 0.0873292  0.14176713 0.20510645]\n",
            " ...\n",
            " [0.         0.         0.         ... 0.         0.         0.        ]\n",
            " [0.         0.         0.         ... 0.         0.         0.        ]\n",
            " [0.         0.         0.         ... 0.         0.         0.        ]]\n",
            "540\n",
            "Done\n"
          ]
        }
      ]
    }
  ]
}